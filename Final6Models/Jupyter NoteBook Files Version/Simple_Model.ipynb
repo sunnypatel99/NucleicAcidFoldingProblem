{
 "cells": [
  {
   "cell_type": "code",
   "execution_count": 1,
   "metadata": {},
   "outputs": [],
   "source": [
    "import pandas as pd\n",
    "from gurobipy import *"
   ]
  },
  {
   "cell_type": "code",
   "execution_count": 2,
   "metadata": {},
   "outputs": [
    {
     "data": {
      "text/plain": [
       "['Test Sequence with length 20:',\n",
       " 'CGUCUUCACUACAGCAUCGG',\n",
       " '',\n",
       " 'Test Sequence with length 30:',\n",
       " 'GACCUUACUGGGUACGAUUUACUGGAGGAC',\n",
       " '',\n",
       " 'Test Sequence with length 50:',\n",
       " 'GGCCAGACUGGUGGUGUGACUCCAGGCUAACCGGAUACGCGUGCCUCGGG',\n",
       " '',\n",
       " 'Test Sequence with length 100:',\n",
       " 'UAUGCAGGUCGCGUUUUUCCACUGCCUAGAUAGCUCUGAGGGUACACUUAGUUCAGCACAUAAGAGGGAUCAUACUAGGUCCGCGUCUUACCUCCUACGA',\n",
       " '',\n",
       " 'Test Sequence with length 200:',\n",
       " 'CCAUGUGGACGAGUUCACGUUGCGGUCUGCCGCGAAGAAUGAGUCGUCCAAUUUUUUUUUCCUGUAUGACGGAUAGAGUGUAGGGUGGGUGAUAGUGUAACUCCGUCCCGGCGUUGUCUAUGGCAGUCUAAUUGUAGUGAGCCAAAAUAUUUCAGAGAGUAACCAUUACAGGCUACCACACGACCCUGAUCCUAUUGUAU',\n",
       " '']"
      ]
     },
     "execution_count": 2,
     "metadata": {},
     "output_type": "execute_result"
    }
   ],
   "source": [
    "with open('test_case.txt') as text_file:\n",
    "    data = text_file.read().splitlines()\n",
    "\n",
    "data"
   ]
  },
  {
   "cell_type": "code",
   "execution_count": 3,
   "metadata": {},
   "outputs": [
    {
     "data": {
      "text/plain": [
       "20"
      ]
     },
     "execution_count": 3,
     "metadata": {},
     "output_type": "execute_result"
    }
   ],
   "source": [
    "s = data[1]\n",
    "len(s)"
   ]
  },
  {
   "cell_type": "code",
   "execution_count": 4,
   "metadata": {},
   "outputs": [
    {
     "name": "stdout",
     "output_type": "stream",
     "text": [
      "Set parameter Username\n",
      "Academic license - for non-commercial use only - expires 2023-01-12\n"
     ]
    }
   ],
   "source": [
    "m = Model(\"Simple\")"
   ]
  },
  {
   "cell_type": "code",
   "execution_count": 5,
   "metadata": {},
   "outputs": [
    {
     "name": "stdout",
     "output_type": "stream",
     "text": [
      "Set parameter TimeLimit to value 300\n"
     ]
    }
   ],
   "source": [
    "m.setParam('OutputFlag',True)\n",
    "m.setParam('TimeLimit', 5*60)"
   ]
  },
  {
   "cell_type": "markdown",
   "metadata": {},
   "source": [
    "# Pre-Processing Data"
   ]
  },
  {
   "cell_type": "code",
   "execution_count": 6,
   "metadata": {},
   "outputs": [
    {
     "data": {
      "text/plain": [
       "[1, 2, 3, 4, 5, 6, 7, 8, 9, 10, 11, 12, 13, 14, 15, 16, 17, 18, 19, 20]"
      ]
     },
     "execution_count": 6,
     "metadata": {},
     "output_type": "execute_result"
    }
   ],
   "source": [
    "ONE_N = list(range(1,len(s)+1))\n",
    "ONE_N"
   ]
  },
  {
   "cell_type": "markdown",
   "metadata": {},
   "source": [
    "## A_i, U_i, C_i, G_i"
   ]
  },
  {
   "cell_type": "code",
   "execution_count": 7,
   "metadata": {},
   "outputs": [],
   "source": [
    "a = {}\n",
    "u = {}\n",
    "c = {}\n",
    "g = {}"
   ]
  },
  {
   "cell_type": "code",
   "execution_count": 8,
   "metadata": {},
   "outputs": [],
   "source": [
    "index = 1\n",
    "for n in s:\n",
    "    if (n == 'A'):\n",
    "        a[index] = 1\n",
    "        u[index] = 0\n",
    "        c[index] = 0\n",
    "        g[index] = 0\n",
    "    if (n == 'U'):\n",
    "        a[index] = 0\n",
    "        u[index] = 1\n",
    "        c[index] = 0\n",
    "        g[index] = 0\n",
    "    if (n == 'C'):\n",
    "        a[index] = 0\n",
    "        u[index] = 0\n",
    "        c[index] = 1\n",
    "        g[index] = 0\n",
    "    if (n == 'G'):\n",
    "        a[index] = 0\n",
    "        u[index] = 0\n",
    "        c[index] = 0\n",
    "        g[index] = 1\n",
    "    \n",
    "    index += 1"
   ]
  },
  {
   "cell_type": "code",
   "execution_count": 9,
   "metadata": {},
   "outputs": [
    {
     "name": "stdout",
     "output_type": "stream",
     "text": [
      "{1: 0, 2: 0, 3: 0, 4: 0, 5: 0, 6: 0, 7: 0, 8: 1, 9: 0, 10: 0, 11: 1, 12: 0, 13: 1, 14: 0, 15: 0, 16: 1, 17: 0, 18: 0, 19: 0, 20: 0}\n",
      "{1: 0, 2: 0, 3: 1, 4: 0, 5: 1, 6: 1, 7: 0, 8: 0, 9: 0, 10: 1, 11: 0, 12: 0, 13: 0, 14: 0, 15: 0, 16: 0, 17: 1, 18: 0, 19: 0, 20: 0}\n",
      "{1: 1, 2: 0, 3: 0, 4: 1, 5: 0, 6: 0, 7: 1, 8: 0, 9: 1, 10: 0, 11: 0, 12: 1, 13: 0, 14: 0, 15: 1, 16: 0, 17: 0, 18: 1, 19: 0, 20: 0}\n",
      "{1: 0, 2: 1, 3: 0, 4: 0, 5: 0, 6: 0, 7: 0, 8: 0, 9: 0, 10: 0, 11: 0, 12: 0, 13: 0, 14: 1, 15: 0, 16: 0, 17: 0, 18: 0, 19: 1, 20: 1}\n",
      "CGUCUUCACUACAGCAUCGG\n"
     ]
    }
   ],
   "source": [
    "print(a)\n",
    "print(u)\n",
    "print(c)\n",
    "print(g)\n",
    "print(s)"
   ]
  },
  {
   "cell_type": "markdown",
   "metadata": {},
   "source": [
    "## X_ij"
   ]
  },
  {
   "cell_type": "code",
   "execution_count": 10,
   "metadata": {},
   "outputs": [
    {
     "data": {
      "text/plain": [
       "{(1, 2): <gurobi.Var *Awaiting Model Update*>,\n",
       " (1, 3): <gurobi.Var *Awaiting Model Update*>,\n",
       " (1, 4): <gurobi.Var *Awaiting Model Update*>,\n",
       " (1, 5): <gurobi.Var *Awaiting Model Update*>,\n",
       " (1, 6): <gurobi.Var *Awaiting Model Update*>,\n",
       " (1, 7): <gurobi.Var *Awaiting Model Update*>,\n",
       " (1, 8): <gurobi.Var *Awaiting Model Update*>,\n",
       " (1, 9): <gurobi.Var *Awaiting Model Update*>,\n",
       " (1, 10): <gurobi.Var *Awaiting Model Update*>,\n",
       " (1, 11): <gurobi.Var *Awaiting Model Update*>,\n",
       " (1, 12): <gurobi.Var *Awaiting Model Update*>,\n",
       " (1, 13): <gurobi.Var *Awaiting Model Update*>,\n",
       " (1, 14): <gurobi.Var *Awaiting Model Update*>,\n",
       " (1, 15): <gurobi.Var *Awaiting Model Update*>,\n",
       " (1, 16): <gurobi.Var *Awaiting Model Update*>,\n",
       " (1, 17): <gurobi.Var *Awaiting Model Update*>,\n",
       " (1, 18): <gurobi.Var *Awaiting Model Update*>,\n",
       " (1, 19): <gurobi.Var *Awaiting Model Update*>,\n",
       " (1, 20): <gurobi.Var *Awaiting Model Update*>,\n",
       " (2, 3): <gurobi.Var *Awaiting Model Update*>,\n",
       " (2, 4): <gurobi.Var *Awaiting Model Update*>,\n",
       " (2, 5): <gurobi.Var *Awaiting Model Update*>,\n",
       " (2, 6): <gurobi.Var *Awaiting Model Update*>,\n",
       " (2, 7): <gurobi.Var *Awaiting Model Update*>,\n",
       " (2, 8): <gurobi.Var *Awaiting Model Update*>,\n",
       " (2, 9): <gurobi.Var *Awaiting Model Update*>,\n",
       " (2, 10): <gurobi.Var *Awaiting Model Update*>,\n",
       " (2, 11): <gurobi.Var *Awaiting Model Update*>,\n",
       " (2, 12): <gurobi.Var *Awaiting Model Update*>,\n",
       " (2, 13): <gurobi.Var *Awaiting Model Update*>,\n",
       " (2, 14): <gurobi.Var *Awaiting Model Update*>,\n",
       " (2, 15): <gurobi.Var *Awaiting Model Update*>,\n",
       " (2, 16): <gurobi.Var *Awaiting Model Update*>,\n",
       " (2, 17): <gurobi.Var *Awaiting Model Update*>,\n",
       " (2, 18): <gurobi.Var *Awaiting Model Update*>,\n",
       " (2, 19): <gurobi.Var *Awaiting Model Update*>,\n",
       " (2, 20): <gurobi.Var *Awaiting Model Update*>,\n",
       " (3, 4): <gurobi.Var *Awaiting Model Update*>,\n",
       " (3, 5): <gurobi.Var *Awaiting Model Update*>,\n",
       " (3, 6): <gurobi.Var *Awaiting Model Update*>,\n",
       " (3, 7): <gurobi.Var *Awaiting Model Update*>,\n",
       " (3, 8): <gurobi.Var *Awaiting Model Update*>,\n",
       " (3, 9): <gurobi.Var *Awaiting Model Update*>,\n",
       " (3, 10): <gurobi.Var *Awaiting Model Update*>,\n",
       " (3, 11): <gurobi.Var *Awaiting Model Update*>,\n",
       " (3, 12): <gurobi.Var *Awaiting Model Update*>,\n",
       " (3, 13): <gurobi.Var *Awaiting Model Update*>,\n",
       " (3, 14): <gurobi.Var *Awaiting Model Update*>,\n",
       " (3, 15): <gurobi.Var *Awaiting Model Update*>,\n",
       " (3, 16): <gurobi.Var *Awaiting Model Update*>,\n",
       " (3, 17): <gurobi.Var *Awaiting Model Update*>,\n",
       " (3, 18): <gurobi.Var *Awaiting Model Update*>,\n",
       " (3, 19): <gurobi.Var *Awaiting Model Update*>,\n",
       " (3, 20): <gurobi.Var *Awaiting Model Update*>,\n",
       " (4, 5): <gurobi.Var *Awaiting Model Update*>,\n",
       " (4, 6): <gurobi.Var *Awaiting Model Update*>,\n",
       " (4, 7): <gurobi.Var *Awaiting Model Update*>,\n",
       " (4, 8): <gurobi.Var *Awaiting Model Update*>,\n",
       " (4, 9): <gurobi.Var *Awaiting Model Update*>,\n",
       " (4, 10): <gurobi.Var *Awaiting Model Update*>,\n",
       " (4, 11): <gurobi.Var *Awaiting Model Update*>,\n",
       " (4, 12): <gurobi.Var *Awaiting Model Update*>,\n",
       " (4, 13): <gurobi.Var *Awaiting Model Update*>,\n",
       " (4, 14): <gurobi.Var *Awaiting Model Update*>,\n",
       " (4, 15): <gurobi.Var *Awaiting Model Update*>,\n",
       " (4, 16): <gurobi.Var *Awaiting Model Update*>,\n",
       " (4, 17): <gurobi.Var *Awaiting Model Update*>,\n",
       " (4, 18): <gurobi.Var *Awaiting Model Update*>,\n",
       " (4, 19): <gurobi.Var *Awaiting Model Update*>,\n",
       " (4, 20): <gurobi.Var *Awaiting Model Update*>,\n",
       " (5, 6): <gurobi.Var *Awaiting Model Update*>,\n",
       " (5, 7): <gurobi.Var *Awaiting Model Update*>,\n",
       " (5, 8): <gurobi.Var *Awaiting Model Update*>,\n",
       " (5, 9): <gurobi.Var *Awaiting Model Update*>,\n",
       " (5, 10): <gurobi.Var *Awaiting Model Update*>,\n",
       " (5, 11): <gurobi.Var *Awaiting Model Update*>,\n",
       " (5, 12): <gurobi.Var *Awaiting Model Update*>,\n",
       " (5, 13): <gurobi.Var *Awaiting Model Update*>,\n",
       " (5, 14): <gurobi.Var *Awaiting Model Update*>,\n",
       " (5, 15): <gurobi.Var *Awaiting Model Update*>,\n",
       " (5, 16): <gurobi.Var *Awaiting Model Update*>,\n",
       " (5, 17): <gurobi.Var *Awaiting Model Update*>,\n",
       " (5, 18): <gurobi.Var *Awaiting Model Update*>,\n",
       " (5, 19): <gurobi.Var *Awaiting Model Update*>,\n",
       " (5, 20): <gurobi.Var *Awaiting Model Update*>,\n",
       " (6, 7): <gurobi.Var *Awaiting Model Update*>,\n",
       " (6, 8): <gurobi.Var *Awaiting Model Update*>,\n",
       " (6, 9): <gurobi.Var *Awaiting Model Update*>,\n",
       " (6, 10): <gurobi.Var *Awaiting Model Update*>,\n",
       " (6, 11): <gurobi.Var *Awaiting Model Update*>,\n",
       " (6, 12): <gurobi.Var *Awaiting Model Update*>,\n",
       " (6, 13): <gurobi.Var *Awaiting Model Update*>,\n",
       " (6, 14): <gurobi.Var *Awaiting Model Update*>,\n",
       " (6, 15): <gurobi.Var *Awaiting Model Update*>,\n",
       " (6, 16): <gurobi.Var *Awaiting Model Update*>,\n",
       " (6, 17): <gurobi.Var *Awaiting Model Update*>,\n",
       " (6, 18): <gurobi.Var *Awaiting Model Update*>,\n",
       " (6, 19): <gurobi.Var *Awaiting Model Update*>,\n",
       " (6, 20): <gurobi.Var *Awaiting Model Update*>,\n",
       " (7, 8): <gurobi.Var *Awaiting Model Update*>,\n",
       " (7, 9): <gurobi.Var *Awaiting Model Update*>,\n",
       " (7, 10): <gurobi.Var *Awaiting Model Update*>,\n",
       " (7, 11): <gurobi.Var *Awaiting Model Update*>,\n",
       " (7, 12): <gurobi.Var *Awaiting Model Update*>,\n",
       " (7, 13): <gurobi.Var *Awaiting Model Update*>,\n",
       " (7, 14): <gurobi.Var *Awaiting Model Update*>,\n",
       " (7, 15): <gurobi.Var *Awaiting Model Update*>,\n",
       " (7, 16): <gurobi.Var *Awaiting Model Update*>,\n",
       " (7, 17): <gurobi.Var *Awaiting Model Update*>,\n",
       " (7, 18): <gurobi.Var *Awaiting Model Update*>,\n",
       " (7, 19): <gurobi.Var *Awaiting Model Update*>,\n",
       " (7, 20): <gurobi.Var *Awaiting Model Update*>,\n",
       " (8, 9): <gurobi.Var *Awaiting Model Update*>,\n",
       " (8, 10): <gurobi.Var *Awaiting Model Update*>,\n",
       " (8, 11): <gurobi.Var *Awaiting Model Update*>,\n",
       " (8, 12): <gurobi.Var *Awaiting Model Update*>,\n",
       " (8, 13): <gurobi.Var *Awaiting Model Update*>,\n",
       " (8, 14): <gurobi.Var *Awaiting Model Update*>,\n",
       " (8, 15): <gurobi.Var *Awaiting Model Update*>,\n",
       " (8, 16): <gurobi.Var *Awaiting Model Update*>,\n",
       " (8, 17): <gurobi.Var *Awaiting Model Update*>,\n",
       " (8, 18): <gurobi.Var *Awaiting Model Update*>,\n",
       " (8, 19): <gurobi.Var *Awaiting Model Update*>,\n",
       " (8, 20): <gurobi.Var *Awaiting Model Update*>,\n",
       " (9, 10): <gurobi.Var *Awaiting Model Update*>,\n",
       " (9, 11): <gurobi.Var *Awaiting Model Update*>,\n",
       " (9, 12): <gurobi.Var *Awaiting Model Update*>,\n",
       " (9, 13): <gurobi.Var *Awaiting Model Update*>,\n",
       " (9, 14): <gurobi.Var *Awaiting Model Update*>,\n",
       " (9, 15): <gurobi.Var *Awaiting Model Update*>,\n",
       " (9, 16): <gurobi.Var *Awaiting Model Update*>,\n",
       " (9, 17): <gurobi.Var *Awaiting Model Update*>,\n",
       " (9, 18): <gurobi.Var *Awaiting Model Update*>,\n",
       " (9, 19): <gurobi.Var *Awaiting Model Update*>,\n",
       " (9, 20): <gurobi.Var *Awaiting Model Update*>,\n",
       " (10, 11): <gurobi.Var *Awaiting Model Update*>,\n",
       " (10, 12): <gurobi.Var *Awaiting Model Update*>,\n",
       " (10, 13): <gurobi.Var *Awaiting Model Update*>,\n",
       " (10, 14): <gurobi.Var *Awaiting Model Update*>,\n",
       " (10, 15): <gurobi.Var *Awaiting Model Update*>,\n",
       " (10, 16): <gurobi.Var *Awaiting Model Update*>,\n",
       " (10, 17): <gurobi.Var *Awaiting Model Update*>,\n",
       " (10, 18): <gurobi.Var *Awaiting Model Update*>,\n",
       " (10, 19): <gurobi.Var *Awaiting Model Update*>,\n",
       " (10, 20): <gurobi.Var *Awaiting Model Update*>,\n",
       " (11, 12): <gurobi.Var *Awaiting Model Update*>,\n",
       " (11, 13): <gurobi.Var *Awaiting Model Update*>,\n",
       " (11, 14): <gurobi.Var *Awaiting Model Update*>,\n",
       " (11, 15): <gurobi.Var *Awaiting Model Update*>,\n",
       " (11, 16): <gurobi.Var *Awaiting Model Update*>,\n",
       " (11, 17): <gurobi.Var *Awaiting Model Update*>,\n",
       " (11, 18): <gurobi.Var *Awaiting Model Update*>,\n",
       " (11, 19): <gurobi.Var *Awaiting Model Update*>,\n",
       " (11, 20): <gurobi.Var *Awaiting Model Update*>,\n",
       " (12, 13): <gurobi.Var *Awaiting Model Update*>,\n",
       " (12, 14): <gurobi.Var *Awaiting Model Update*>,\n",
       " (12, 15): <gurobi.Var *Awaiting Model Update*>,\n",
       " (12, 16): <gurobi.Var *Awaiting Model Update*>,\n",
       " (12, 17): <gurobi.Var *Awaiting Model Update*>,\n",
       " (12, 18): <gurobi.Var *Awaiting Model Update*>,\n",
       " (12, 19): <gurobi.Var *Awaiting Model Update*>,\n",
       " (12, 20): <gurobi.Var *Awaiting Model Update*>,\n",
       " (13, 14): <gurobi.Var *Awaiting Model Update*>,\n",
       " (13, 15): <gurobi.Var *Awaiting Model Update*>,\n",
       " (13, 16): <gurobi.Var *Awaiting Model Update*>,\n",
       " (13, 17): <gurobi.Var *Awaiting Model Update*>,\n",
       " (13, 18): <gurobi.Var *Awaiting Model Update*>,\n",
       " (13, 19): <gurobi.Var *Awaiting Model Update*>,\n",
       " (13, 20): <gurobi.Var *Awaiting Model Update*>,\n",
       " (14, 15): <gurobi.Var *Awaiting Model Update*>,\n",
       " (14, 16): <gurobi.Var *Awaiting Model Update*>,\n",
       " (14, 17): <gurobi.Var *Awaiting Model Update*>,\n",
       " (14, 18): <gurobi.Var *Awaiting Model Update*>,\n",
       " (14, 19): <gurobi.Var *Awaiting Model Update*>,\n",
       " (14, 20): <gurobi.Var *Awaiting Model Update*>,\n",
       " (15, 16): <gurobi.Var *Awaiting Model Update*>,\n",
       " (15, 17): <gurobi.Var *Awaiting Model Update*>,\n",
       " (15, 18): <gurobi.Var *Awaiting Model Update*>,\n",
       " (15, 19): <gurobi.Var *Awaiting Model Update*>,\n",
       " (15, 20): <gurobi.Var *Awaiting Model Update*>,\n",
       " (16, 17): <gurobi.Var *Awaiting Model Update*>,\n",
       " (16, 18): <gurobi.Var *Awaiting Model Update*>,\n",
       " (16, 19): <gurobi.Var *Awaiting Model Update*>,\n",
       " (16, 20): <gurobi.Var *Awaiting Model Update*>,\n",
       " (17, 18): <gurobi.Var *Awaiting Model Update*>,\n",
       " (17, 19): <gurobi.Var *Awaiting Model Update*>,\n",
       " (17, 20): <gurobi.Var *Awaiting Model Update*>,\n",
       " (18, 19): <gurobi.Var *Awaiting Model Update*>,\n",
       " (18, 20): <gurobi.Var *Awaiting Model Update*>,\n",
       " (19, 20): <gurobi.Var *Awaiting Model Update*>}"
      ]
     },
     "execution_count": 10,
     "metadata": {},
     "output_type": "execute_result"
    }
   ],
   "source": [
    "ls_tup = []\n",
    "for i in range(1,len(s)):\n",
    "    for j in range(i+1,len(s)+1):\n",
    "        ls_tup.append((i,j))\n",
    "        \n",
    "x = m.addVars(ls_tup,name='X_ij',vtype=GRB.BINARY)\n",
    "x"
   ]
  },
  {
   "cell_type": "markdown",
   "metadata": {},
   "source": [
    "## Complementary Pairs"
   ]
  },
  {
   "cell_type": "code",
   "execution_count": 11,
   "metadata": {},
   "outputs": [],
   "source": [
    "for i in ONE_N:\n",
    "    for j in range(i+1,len(s)+1):\n",
    "        if (a[i] + a[j] + c[i] + c[j] == 2):\n",
    "            x[i,j] = 0\n",
    "        if (a[i] + a[j] + g[i] + g[j] == 2):\n",
    "            x[i,j] = 0\n",
    "        if (u[i] + u[j] + c[i] + c[j] == 2):\n",
    "            x[i,j] = 0\n",
    "        if (u[i] + u[j] + g[i] + g[j] == 2):\n",
    "            x[i,j] = 0"
   ]
  },
  {
   "cell_type": "markdown",
   "metadata": {},
   "source": [
    "# Objective Function"
   ]
  },
  {
   "cell_type": "code",
   "execution_count": 12,
   "metadata": {},
   "outputs": [],
   "source": [
    "m.setObjective((quicksum(x[i,j] for i in ONE_N for j in list(range(i+1,len(s)+1)))),GRB.MAXIMIZE)"
   ]
  },
  {
   "cell_type": "markdown",
   "metadata": {},
   "source": [
    "# Constraints"
   ]
  },
  {
   "cell_type": "markdown",
   "metadata": {},
   "source": [
    "## Character can be in at most 1 pair"
   ]
  },
  {
   "cell_type": "code",
   "execution_count": 13,
   "metadata": {},
   "outputs": [
    {
     "data": {
      "text/plain": [
       "{1: <gurobi.Constr *Awaiting Model Update*>,\n",
       " 2: <gurobi.Constr *Awaiting Model Update*>,\n",
       " 3: <gurobi.Constr *Awaiting Model Update*>,\n",
       " 4: <gurobi.Constr *Awaiting Model Update*>,\n",
       " 5: <gurobi.Constr *Awaiting Model Update*>,\n",
       " 6: <gurobi.Constr *Awaiting Model Update*>,\n",
       " 7: <gurobi.Constr *Awaiting Model Update*>,\n",
       " 8: <gurobi.Constr *Awaiting Model Update*>,\n",
       " 9: <gurobi.Constr *Awaiting Model Update*>,\n",
       " 10: <gurobi.Constr *Awaiting Model Update*>,\n",
       " 11: <gurobi.Constr *Awaiting Model Update*>,\n",
       " 12: <gurobi.Constr *Awaiting Model Update*>,\n",
       " 13: <gurobi.Constr *Awaiting Model Update*>,\n",
       " 14: <gurobi.Constr *Awaiting Model Update*>,\n",
       " 15: <gurobi.Constr *Awaiting Model Update*>,\n",
       " 16: <gurobi.Constr *Awaiting Model Update*>,\n",
       " 17: <gurobi.Constr *Awaiting Model Update*>,\n",
       " 18: <gurobi.Constr *Awaiting Model Update*>,\n",
       " 19: <gurobi.Constr *Awaiting Model Update*>,\n",
       " 20: <gurobi.Constr *Awaiting Model Update*>}"
      ]
     },
     "execution_count": 13,
     "metadata": {},
     "output_type": "execute_result"
    }
   ],
   "source": [
    "m.addConstrs(quicksum([x[i,k] for i in range(1,k)]) + quicksum([x[k,j] for j in list(range(k+1,len(s)+1))]) <= 1 for k in ONE_N)"
   ]
  },
  {
   "cell_type": "markdown",
   "metadata": {},
   "source": [
    "## Non-Crossing Constraint"
   ]
  },
  {
   "cell_type": "code",
   "execution_count": 14,
   "metadata": {},
   "outputs": [
    {
     "data": {
      "text/plain": [
       "{(1, 2): <gurobi.Constr *Awaiting Model Update*>,\n",
       " (1, 3): <gurobi.Constr *Awaiting Model Update*>,\n",
       " (1, 4): <gurobi.Constr *Awaiting Model Update*>,\n",
       " (1, 5): <gurobi.Constr *Awaiting Model Update*>,\n",
       " (1, 6): <gurobi.Constr *Awaiting Model Update*>,\n",
       " (1, 7): <gurobi.Constr *Awaiting Model Update*>,\n",
       " (1, 8): <gurobi.Constr *Awaiting Model Update*>,\n",
       " (1, 9): <gurobi.Constr *Awaiting Model Update*>,\n",
       " (1, 10): <gurobi.Constr *Awaiting Model Update*>,\n",
       " (1, 11): <gurobi.Constr *Awaiting Model Update*>,\n",
       " (1, 12): <gurobi.Constr *Awaiting Model Update*>,\n",
       " (1, 13): <gurobi.Constr *Awaiting Model Update*>,\n",
       " (1, 14): <gurobi.Constr *Awaiting Model Update*>,\n",
       " (1, 15): <gurobi.Constr *Awaiting Model Update*>,\n",
       " (1, 16): <gurobi.Constr *Awaiting Model Update*>,\n",
       " (1, 17): <gurobi.Constr *Awaiting Model Update*>,\n",
       " (1, 18): <gurobi.Constr *Awaiting Model Update*>,\n",
       " (1, 19): <gurobi.Constr *Awaiting Model Update*>,\n",
       " (1, 20): <gurobi.Constr *Awaiting Model Update*>,\n",
       " (2, 3): <gurobi.Constr *Awaiting Model Update*>,\n",
       " (2, 4): <gurobi.Constr *Awaiting Model Update*>,\n",
       " (2, 5): <gurobi.Constr *Awaiting Model Update*>,\n",
       " (2, 6): <gurobi.Constr *Awaiting Model Update*>,\n",
       " (2, 7): <gurobi.Constr *Awaiting Model Update*>,\n",
       " (2, 8): <gurobi.Constr *Awaiting Model Update*>,\n",
       " (2, 9): <gurobi.Constr *Awaiting Model Update*>,\n",
       " (2, 10): <gurobi.Constr *Awaiting Model Update*>,\n",
       " (2, 11): <gurobi.Constr *Awaiting Model Update*>,\n",
       " (2, 12): <gurobi.Constr *Awaiting Model Update*>,\n",
       " (2, 13): <gurobi.Constr *Awaiting Model Update*>,\n",
       " (2, 14): <gurobi.Constr *Awaiting Model Update*>,\n",
       " (2, 15): <gurobi.Constr *Awaiting Model Update*>,\n",
       " (2, 16): <gurobi.Constr *Awaiting Model Update*>,\n",
       " (2, 17): <gurobi.Constr *Awaiting Model Update*>,\n",
       " (2, 18): <gurobi.Constr *Awaiting Model Update*>,\n",
       " (2, 19): <gurobi.Constr *Awaiting Model Update*>,\n",
       " (2, 20): <gurobi.Constr *Awaiting Model Update*>,\n",
       " (3, 4): <gurobi.Constr *Awaiting Model Update*>,\n",
       " (3, 5): <gurobi.Constr *Awaiting Model Update*>,\n",
       " (3, 6): <gurobi.Constr *Awaiting Model Update*>,\n",
       " (3, 7): <gurobi.Constr *Awaiting Model Update*>,\n",
       " (3, 8): <gurobi.Constr *Awaiting Model Update*>,\n",
       " (3, 9): <gurobi.Constr *Awaiting Model Update*>,\n",
       " (3, 10): <gurobi.Constr *Awaiting Model Update*>,\n",
       " (3, 11): <gurobi.Constr *Awaiting Model Update*>,\n",
       " (3, 12): <gurobi.Constr *Awaiting Model Update*>,\n",
       " (3, 13): <gurobi.Constr *Awaiting Model Update*>,\n",
       " (3, 14): <gurobi.Constr *Awaiting Model Update*>,\n",
       " (3, 15): <gurobi.Constr *Awaiting Model Update*>,\n",
       " (3, 16): <gurobi.Constr *Awaiting Model Update*>,\n",
       " (3, 17): <gurobi.Constr *Awaiting Model Update*>,\n",
       " (3, 18): <gurobi.Constr *Awaiting Model Update*>,\n",
       " (3, 19): <gurobi.Constr *Awaiting Model Update*>,\n",
       " (3, 20): <gurobi.Constr *Awaiting Model Update*>,\n",
       " (4, 5): <gurobi.Constr *Awaiting Model Update*>,\n",
       " (4, 6): <gurobi.Constr *Awaiting Model Update*>,\n",
       " (4, 7): <gurobi.Constr *Awaiting Model Update*>,\n",
       " (4, 8): <gurobi.Constr *Awaiting Model Update*>,\n",
       " (4, 9): <gurobi.Constr *Awaiting Model Update*>,\n",
       " (4, 10): <gurobi.Constr *Awaiting Model Update*>,\n",
       " (4, 11): <gurobi.Constr *Awaiting Model Update*>,\n",
       " (4, 12): <gurobi.Constr *Awaiting Model Update*>,\n",
       " (4, 13): <gurobi.Constr *Awaiting Model Update*>,\n",
       " (4, 14): <gurobi.Constr *Awaiting Model Update*>,\n",
       " (4, 15): <gurobi.Constr *Awaiting Model Update*>,\n",
       " (4, 16): <gurobi.Constr *Awaiting Model Update*>,\n",
       " (4, 17): <gurobi.Constr *Awaiting Model Update*>,\n",
       " (4, 18): <gurobi.Constr *Awaiting Model Update*>,\n",
       " (4, 19): <gurobi.Constr *Awaiting Model Update*>,\n",
       " (4, 20): <gurobi.Constr *Awaiting Model Update*>,\n",
       " (5, 6): <gurobi.Constr *Awaiting Model Update*>,\n",
       " (5, 7): <gurobi.Constr *Awaiting Model Update*>,\n",
       " (5, 8): <gurobi.Constr *Awaiting Model Update*>,\n",
       " (5, 9): <gurobi.Constr *Awaiting Model Update*>,\n",
       " (5, 10): <gurobi.Constr *Awaiting Model Update*>,\n",
       " (5, 11): <gurobi.Constr *Awaiting Model Update*>,\n",
       " (5, 12): <gurobi.Constr *Awaiting Model Update*>,\n",
       " (5, 13): <gurobi.Constr *Awaiting Model Update*>,\n",
       " (5, 14): <gurobi.Constr *Awaiting Model Update*>,\n",
       " (5, 15): <gurobi.Constr *Awaiting Model Update*>,\n",
       " (5, 16): <gurobi.Constr *Awaiting Model Update*>,\n",
       " (5, 17): <gurobi.Constr *Awaiting Model Update*>,\n",
       " (5, 18): <gurobi.Constr *Awaiting Model Update*>,\n",
       " (5, 19): <gurobi.Constr *Awaiting Model Update*>,\n",
       " (5, 20): <gurobi.Constr *Awaiting Model Update*>,\n",
       " (6, 7): <gurobi.Constr *Awaiting Model Update*>,\n",
       " (6, 8): <gurobi.Constr *Awaiting Model Update*>,\n",
       " (6, 9): <gurobi.Constr *Awaiting Model Update*>,\n",
       " (6, 10): <gurobi.Constr *Awaiting Model Update*>,\n",
       " (6, 11): <gurobi.Constr *Awaiting Model Update*>,\n",
       " (6, 12): <gurobi.Constr *Awaiting Model Update*>,\n",
       " (6, 13): <gurobi.Constr *Awaiting Model Update*>,\n",
       " (6, 14): <gurobi.Constr *Awaiting Model Update*>,\n",
       " (6, 15): <gurobi.Constr *Awaiting Model Update*>,\n",
       " (6, 16): <gurobi.Constr *Awaiting Model Update*>,\n",
       " (6, 17): <gurobi.Constr *Awaiting Model Update*>,\n",
       " (6, 18): <gurobi.Constr *Awaiting Model Update*>,\n",
       " (6, 19): <gurobi.Constr *Awaiting Model Update*>,\n",
       " (6, 20): <gurobi.Constr *Awaiting Model Update*>,\n",
       " (7, 8): <gurobi.Constr *Awaiting Model Update*>,\n",
       " (7, 9): <gurobi.Constr *Awaiting Model Update*>,\n",
       " (7, 10): <gurobi.Constr *Awaiting Model Update*>,\n",
       " (7, 11): <gurobi.Constr *Awaiting Model Update*>,\n",
       " (7, 12): <gurobi.Constr *Awaiting Model Update*>,\n",
       " (7, 13): <gurobi.Constr *Awaiting Model Update*>,\n",
       " (7, 14): <gurobi.Constr *Awaiting Model Update*>,\n",
       " (7, 15): <gurobi.Constr *Awaiting Model Update*>,\n",
       " (7, 16): <gurobi.Constr *Awaiting Model Update*>,\n",
       " (7, 17): <gurobi.Constr *Awaiting Model Update*>,\n",
       " (7, 18): <gurobi.Constr *Awaiting Model Update*>,\n",
       " (7, 19): <gurobi.Constr *Awaiting Model Update*>,\n",
       " (7, 20): <gurobi.Constr *Awaiting Model Update*>,\n",
       " (8, 9): <gurobi.Constr *Awaiting Model Update*>,\n",
       " (8, 10): <gurobi.Constr *Awaiting Model Update*>,\n",
       " (8, 11): <gurobi.Constr *Awaiting Model Update*>,\n",
       " (8, 12): <gurobi.Constr *Awaiting Model Update*>,\n",
       " (8, 13): <gurobi.Constr *Awaiting Model Update*>,\n",
       " (8, 14): <gurobi.Constr *Awaiting Model Update*>,\n",
       " (8, 15): <gurobi.Constr *Awaiting Model Update*>,\n",
       " (8, 16): <gurobi.Constr *Awaiting Model Update*>,\n",
       " (8, 17): <gurobi.Constr *Awaiting Model Update*>,\n",
       " (8, 18): <gurobi.Constr *Awaiting Model Update*>,\n",
       " (8, 19): <gurobi.Constr *Awaiting Model Update*>,\n",
       " (8, 20): <gurobi.Constr *Awaiting Model Update*>,\n",
       " (9, 10): <gurobi.Constr *Awaiting Model Update*>,\n",
       " (9, 11): <gurobi.Constr *Awaiting Model Update*>,\n",
       " (9, 12): <gurobi.Constr *Awaiting Model Update*>,\n",
       " (9, 13): <gurobi.Constr *Awaiting Model Update*>,\n",
       " (9, 14): <gurobi.Constr *Awaiting Model Update*>,\n",
       " (9, 15): <gurobi.Constr *Awaiting Model Update*>,\n",
       " (9, 16): <gurobi.Constr *Awaiting Model Update*>,\n",
       " (9, 17): <gurobi.Constr *Awaiting Model Update*>,\n",
       " (9, 18): <gurobi.Constr *Awaiting Model Update*>,\n",
       " (9, 19): <gurobi.Constr *Awaiting Model Update*>,\n",
       " (9, 20): <gurobi.Constr *Awaiting Model Update*>,\n",
       " (10, 11): <gurobi.Constr *Awaiting Model Update*>,\n",
       " (10, 12): <gurobi.Constr *Awaiting Model Update*>,\n",
       " (10, 13): <gurobi.Constr *Awaiting Model Update*>,\n",
       " (10, 14): <gurobi.Constr *Awaiting Model Update*>,\n",
       " (10, 15): <gurobi.Constr *Awaiting Model Update*>,\n",
       " (10, 16): <gurobi.Constr *Awaiting Model Update*>,\n",
       " (10, 17): <gurobi.Constr *Awaiting Model Update*>,\n",
       " (10, 18): <gurobi.Constr *Awaiting Model Update*>,\n",
       " (10, 19): <gurobi.Constr *Awaiting Model Update*>,\n",
       " (10, 20): <gurobi.Constr *Awaiting Model Update*>,\n",
       " (11, 12): <gurobi.Constr *Awaiting Model Update*>,\n",
       " (11, 13): <gurobi.Constr *Awaiting Model Update*>,\n",
       " (11, 14): <gurobi.Constr *Awaiting Model Update*>,\n",
       " (11, 15): <gurobi.Constr *Awaiting Model Update*>,\n",
       " (11, 16): <gurobi.Constr *Awaiting Model Update*>,\n",
       " (11, 17): <gurobi.Constr *Awaiting Model Update*>,\n",
       " (11, 18): <gurobi.Constr *Awaiting Model Update*>,\n",
       " (11, 19): <gurobi.Constr *Awaiting Model Update*>,\n",
       " (11, 20): <gurobi.Constr *Awaiting Model Update*>,\n",
       " (12, 13): <gurobi.Constr *Awaiting Model Update*>,\n",
       " (12, 14): <gurobi.Constr *Awaiting Model Update*>,\n",
       " (12, 15): <gurobi.Constr *Awaiting Model Update*>,\n",
       " (12, 16): <gurobi.Constr *Awaiting Model Update*>,\n",
       " (12, 17): <gurobi.Constr *Awaiting Model Update*>,\n",
       " (12, 18): <gurobi.Constr *Awaiting Model Update*>,\n",
       " (12, 19): <gurobi.Constr *Awaiting Model Update*>,\n",
       " (12, 20): <gurobi.Constr *Awaiting Model Update*>,\n",
       " (13, 14): <gurobi.Constr *Awaiting Model Update*>,\n",
       " (13, 15): <gurobi.Constr *Awaiting Model Update*>,\n",
       " (13, 16): <gurobi.Constr *Awaiting Model Update*>,\n",
       " (13, 17): <gurobi.Constr *Awaiting Model Update*>,\n",
       " (13, 18): <gurobi.Constr *Awaiting Model Update*>,\n",
       " (13, 19): <gurobi.Constr *Awaiting Model Update*>,\n",
       " (13, 20): <gurobi.Constr *Awaiting Model Update*>,\n",
       " (14, 15): <gurobi.Constr *Awaiting Model Update*>,\n",
       " (14, 16): <gurobi.Constr *Awaiting Model Update*>,\n",
       " (14, 17): <gurobi.Constr *Awaiting Model Update*>,\n",
       " (14, 18): <gurobi.Constr *Awaiting Model Update*>,\n",
       " (14, 19): <gurobi.Constr *Awaiting Model Update*>,\n",
       " (14, 20): <gurobi.Constr *Awaiting Model Update*>,\n",
       " (15, 16): <gurobi.Constr *Awaiting Model Update*>,\n",
       " (15, 17): <gurobi.Constr *Awaiting Model Update*>,\n",
       " (15, 18): <gurobi.Constr *Awaiting Model Update*>,\n",
       " (15, 19): <gurobi.Constr *Awaiting Model Update*>,\n",
       " (15, 20): <gurobi.Constr *Awaiting Model Update*>,\n",
       " (16, 17): <gurobi.Constr *Awaiting Model Update*>,\n",
       " (16, 18): <gurobi.Constr *Awaiting Model Update*>,\n",
       " (16, 19): <gurobi.Constr *Awaiting Model Update*>,\n",
       " (16, 20): <gurobi.Constr *Awaiting Model Update*>,\n",
       " (17, 18): <gurobi.Constr *Awaiting Model Update*>,\n",
       " (17, 19): <gurobi.Constr *Awaiting Model Update*>,\n",
       " (17, 20): <gurobi.Constr *Awaiting Model Update*>,\n",
       " (18, 19): <gurobi.Constr *Awaiting Model Update*>,\n",
       " (18, 20): <gurobi.Constr *Awaiting Model Update*>,\n",
       " (19, 20): <gurobi.Constr *Awaiting Model Update*>}"
      ]
     },
     "execution_count": 14,
     "metadata": {},
     "output_type": "execute_result"
    }
   ],
   "source": [
    "m.addConstrs(quicksum(x[k,l] for k in range(i+1,j) for l in [i for i in list(range(1,len(s)+1)) if i >= j]) <= (10**6)*(1-x[i,j]) for i in range(1,len(s)+1) for j in range(i+1,len(s)+1))"
   ]
  },
  {
   "cell_type": "code",
   "execution_count": 15,
   "metadata": {
    "scrolled": true
   },
   "outputs": [
    {
     "name": "stdout",
     "output_type": "stream",
     "text": [
      "Gurobi Optimizer version 9.5.0 build v9.5.0rc5 (mac64[x86])\n",
      "Thread count: 2 physical cores, 4 logical processors, using up to 4 threads\n",
      "Optimize a model with 210 rows, 190 columns and 1743 nonzeros\n",
      "Model fingerprint: 0x1edcdabb\n",
      "Variable types: 0 continuous, 190 integer (190 binary)\n",
      "Coefficient statistics:\n",
      "  Matrix range     [1e+00, 1e+06]\n",
      "  Objective range  [1e+00, 1e+00]\n",
      "  Bounds range     [1e+00, 1e+00]\n",
      "  RHS range        [1e+00, 1e+06]\n",
      "Found heuristic solution: objective 6.0000000\n",
      "Presolve removed 179 rows and 161 columns\n",
      "Presolve time: 0.01s\n",
      "Presolved: 31 rows, 29 columns, 175 nonzeros\n",
      "Found heuristic solution: objective 7.0000000\n",
      "Variable types: 0 continuous, 29 integer (29 binary)\n",
      "\n",
      "Root relaxation: objective 8.000000e+00, 13 iterations, 0.00 seconds (0.00 work units)\n",
      "\n",
      "    Nodes    |    Current Node    |     Objective Bounds      |     Work\n",
      " Expl Unexpl |  Obj  Depth IntInf | Incumbent    BestBd   Gap | It/Node Time\n",
      "\n",
      "*    0     0               0       8.0000000    8.00000  0.00%     -    0s\n",
      "\n",
      "Explored 1 nodes (14 simplex iterations) in 0.03 seconds (0.00 work units)\n",
      "Thread count was 4 (of 4 available processors)\n",
      "\n",
      "Solution count 3: 8 7 6 \n",
      "\n",
      "Optimal solution found (tolerance 1.00e-04)\n",
      "Best objective 8.000000000000e+00, best bound 8.000000000000e+00, gap 0.0000%\n",
      "The optimization status is OPTIMAL\n",
      "Optimal solution:\n",
      "X_ij[1,20] = 1\n",
      "X_ij[2,4] = 1\n",
      "X_ij[5,13] = 1\n",
      "X_ij[6,8] = 1\n",
      "X_ij[10,11] = 1\n",
      "X_ij[14,15] = 1\n",
      "X_ij[16,17] = 1\n",
      "X_ij[18,19] = 1\n",
      "Optimal objective value:\n",
      "8.0\n",
      "Runtime is: 0.041938066482543945\n"
     ]
    }
   ],
   "source": [
    "# Optimize the model\n",
    "m.optimize()\n",
    "# Print the result\n",
    "status_code = {1: 'LOADED', 2: 'OPTIMAL', 3: 'INFEASIBLE', 4: 'INF_OR_UNBD', 5: 'UNBOUNDED'}\n",
    "status = m.status\n",
    "print(\"The optimization status is {}\".format(status_code[status]))\n",
    "if status == 2:\n",
    "# Retrieve variables value\n",
    "    print(\"Optimal solution:\")\n",
    "    for v in m.getVars():\n",
    "        if (v.x == 1):\n",
    "            print(\"%s = %g\" % (v.varName, v.x))\n",
    "    print(\"Optimal objective value:\\n{}\".format(m.objVal))\n",
    "    print(\"Runtime is:\", m.Runtime)"
   ]
  },
  {
   "cell_type": "code",
   "execution_count": 16,
   "metadata": {},
   "outputs": [],
   "source": [
    "m.write(\"check.lp\")"
   ]
  }
 ],
 "metadata": {
  "kernelspec": {
   "display_name": "Python 3",
   "language": "python",
   "name": "python3"
  },
  "language_info": {
   "codemirror_mode": {
    "name": "ipython",
    "version": 3
   },
   "file_extension": ".py",
   "mimetype": "text/x-python",
   "name": "python",
   "nbconvert_exporter": "python",
   "pygments_lexer": "ipython3",
   "version": "3.8.3"
  }
 },
 "nbformat": 4,
 "nbformat_minor": 4
}
